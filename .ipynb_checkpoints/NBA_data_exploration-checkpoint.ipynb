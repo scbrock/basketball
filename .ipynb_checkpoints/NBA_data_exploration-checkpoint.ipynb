{
 "cells": [
  {
   "cell_type": "code",
   "execution_count": 1,
   "metadata": {},
   "outputs": [],
   "source": [
    "import pandas as pd\n",
    "import numpy as np\n",
    "import os\n",
    "    "
   ]
  },
  {
   "cell_type": "code",
   "execution_count": 2,
   "metadata": {},
   "outputs": [
    {
     "name": "stdout",
     "output_type": "stream",
     "text": [
      "/Users/stephenbrock/Documents/github/basketball\n"
     ]
    }
   ],
   "source": [
    "cwd = os.getcwd()\n",
    "print(cwd)"
   ]
  },
  {
   "cell_type": "code",
   "execution_count": 7,
   "metadata": {},
   "outputs": [
    {
     "name": "stdout",
     "output_type": "stream",
     "text": [
      "dict_keys(['GSW', 'HOU', 'OKC', 'SAC', 'CLE', 'POR', 'NOP', 'TOR', 'IND', 'BOS', 'NYK', 'LAC', 'SAS', 'CHI', 'CHA', 'MIN', 'BKN', 'PHX', 'WAS', 'UTA', 'DEN', 'MIA', 'DET', 'DAL', 'ORL', 'MIL', 'LAL', 'PHI', 'ATL', 'MEM'])\n"
     ]
    }
   ],
   "source": [
    "# Lookup how to create dictionaries and then access them throughout the program\n",
    "\n",
    "\n",
    "file = 'players/nba_season_1516.csv'\n",
    "\n",
    "def build_player_dictionary(file):\n",
    "    \n",
    "    data = pd.read_csv(file, index_col=0)\n",
    "    \n",
    "    team_dict = {}\n",
    "    \n",
    "    for index, row in data.iterrows():\n",
    "        team = row['TEAM']\n",
    "        name = row['PLAYER']\n",
    "\n",
    "        row_as_dict = row.to_dict()\n",
    "        # want the the list of players where each player is a dictionary where you can access specific stats\n",
    "\n",
    "        if team_dict.get(team) is None:\n",
    "            team_dict[team] = {}\n",
    "            team_dict[team][name] = row_as_dict\n",
    "        else:\n",
    "            team_dict[team][name] = row_as_dict\n",
    "    return team_dict\n",
    "\n",
    "players_dict_1516 = build_player_dictionary(file)\n",
    "\n",
    "print(players_dict_1516.keys())\n",
    "\n",
    "\n",
    "#print(data.head(10))\n"
   ]
  },
  {
   "cell_type": "code",
   "execution_count": 6,
   "metadata": {},
   "outputs": [
    {
     "name": "stdout",
     "output_type": "stream",
     "text": [
      "29.0\n"
     ]
    }
   ],
   "source": [
    "print(team_dict.get('HOU').get('James Harden').get('PTS'))\n"
   ]
  },
  {
   "cell_type": "code",
   "execution_count": null,
   "metadata": {},
   "outputs": [],
   "source": [
    "\n",
    "filedir = cwd+'/players/'\n",
    "\n",
    "for file in os.listdir(filedir):\n",
    "    # rename file to change season to players\n",
    "\n"
   ]
  }
 ],
 "metadata": {
  "kernelspec": {
   "display_name": "Python 3",
   "language": "python",
   "name": "python3"
  },
  "language_info": {
   "codemirror_mode": {
    "name": "ipython",
    "version": 3
   },
   "file_extension": ".py",
   "mimetype": "text/x-python",
   "name": "python",
   "nbconvert_exporter": "python",
   "pygments_lexer": "ipython3",
   "version": "3.6.4"
  }
 },
 "nbformat": 4,
 "nbformat_minor": 2
}
