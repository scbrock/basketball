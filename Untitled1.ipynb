{
 "cells": [
  {
   "cell_type": "code",
   "execution_count": 4,
   "metadata": {},
   "outputs": [
    {
     "name": "stdout",
     "output_type": "stream",
     "text": [
      "284.0\n"
     ]
    }
   ],
   "source": [
    "import pandas as pd\n",
    "\n",
    "df = pd.read_csv('shopify_data.csv', sep=',')\n",
    "order_amts = df['order_amount']\n",
    "\n",
    "print(order_amts.median(axis=0))\n",
    "\n"
   ]
  },
  {
   "cell_type": "code",
   "execution_count": null,
   "metadata": {},
   "outputs": [],
   "source": [
    "# SELECT * FROM Orders WHERE ShipperID = 3;"
   ]
  },
  {
   "cell_type": "code",
   "execution_count": null,
   "metadata": {},
   "outputs": [],
   "source": [
    "SELECT COUNT(*)\n",
    "FROM [Orders] JOIN Employees\n",
    "ON [Orders].EmployeeID = Employees.EmployeeID"
   ]
  },
  {
   "cell_type": "code",
   "execution_count": null,
   "metadata": {},
   "outputs": [],
   "source": [
    "SELECT LastName FROM (SELECT *\n",
    "FROM [Orders] JOIN Employees\n",
    "ON [Orders].EmployeeID = Employees.EmployeeID\n",
    "GROUP BY Employees.EmployeeID)\n",
    "HAVING COUNT(LastName)=(SELECT MAX(mycount) FROM (SELECT COUNT(Employees.LastName) mycount, Employees.LastName\n",
    "FROM [Orders] JOIN Employees\n",
    "ON [Orders].EmployeeID = Employees.EmployeeID\n",
    "GROUP BY Employees.EmployeeID));"
   ]
  },
  {
   "cell_type": "code",
   "execution_count": null,
   "metadata": {},
   "outputs": [],
   "source": [
    "SELECT LastName FROM (SELECT *\n",
    "FROM [Orders] JOIN Employees\n",
    "ON [Orders].EmployeeID = Employees.EmployeeID)\n",
    "GROUP BY LastName\n",
    "HAVING COUNT(LastName)=(SELECT MAX(mycount) FROM (SELECT COUNT(Employees.LastName) mycount, Employees.LastName\n",
    "FROM [Orders] JOIN Employees\n",
    "ON [Orders].EmployeeID = Employees.EmployeeID\n",
    "GROUP BY Employees.EmployeeID));"
   ]
  },
  {
   "cell_type": "code",
   "execution_count": null,
   "metadata": {},
   "outputs": [],
   "source": [
    "SELECT LastName FROM (SELECT *\n",
    "FROM [Orders] JOIN Customers\n",
    "ON [Orders].CustomerID = Customers.CustomerID)\n",
    "GROUP BY LastName\n",
    "HAVING COUNT(LastName)=(SELECT MAX(mycount) FROM (SELECT COUNT(Employees.LastName) mycount, Employees.LastName\n",
    "FROM [Orders] JOIN Employees\n",
    "ON [Orders].EmployeeID = Employees.EmployeeID\n",
    "GROUP BY Employees.EmployeeID));"
   ]
  },
  {
   "cell_type": "code",
   "execution_count": null,
   "metadata": {},
   "outputs": [],
   "source": [
    "SELECT * FROM Orders o JOIN Customers c ON o.CustomerID = c.CustomerID JOIN OrderDetails od ON o.OrderID = od.OrderID JOIN Products p ON p.ProductID = od.ProductID"
   ]
  },
  {
   "cell_type": "code",
   "execution_count": null,
   "metadata": {},
   "outputs": [],
   "source": [
    "SELECT p.ProductName, c.Country FROM Orders o JOIN Customers c ON o.CustomerID = c.CustomerID JOIN OrderDetails od ON o.OrderID = od.OrderID JOIN Products p ON p.ProductID = od.ProductID"
   ]
  },
  {
   "cell_type": "code",
   "execution_count": null,
   "metadata": {},
   "outputs": [],
   "source": [
    "SELECT count(p.ProductName) ProductCount, p.ProductName, c.Country FROM Orders o JOIN Customers c ON o.CustomerID = c.CustomerID JOIN OrderDetails od ON o.OrderID = od.OrderID JOIN Products p ON p.ProductID = od.ProductID\n",
    "GROUP BY c.Country\n",
    "HAVING c.Country = \"Germany\""
   ]
  },
  {
   "cell_type": "code",
   "execution_count": null,
   "metadata": {},
   "outputs": [],
   "source": [
    "# Not finished\n",
    "SELECT ProductName FROM (SELECT * FROM Orders o JOIN Customers c ON o.CustomerID = c.CustomerID JOIN OrderDetails od ON o.OrderID = od.OrderID JOIN Products p ON p.ProductID = od.ProductID\n",
    "WHERE c.Country = \"Germany\")\n",
    "GROUP BY ProductName\n",
    "HAVING COUNT(ProductName)=(SELECT MAX(ProductCount) FROM (SELECT count(p.ProductName) ProductCount, p.ProductName, c.Country FROM Orders o JOIN Customers c ON o.CustomerID = c.CustomerID JOIN OrderDetails od ON o.OrderID = od.OrderID JOIN Products p ON p.ProductID = od.ProductID\n",
    "GROUP BY c.Country\n",
    "HAVING c.Country = \"Germany\"));"
   ]
  },
  {
   "cell_type": "code",
   "execution_count": null,
   "metadata": {},
   "outputs": [],
   "source": [
    "SELECT SUM(od.Quantity) ProductSum, p.ProductName, c.Country FROM Orders o JOIN Customers c ON o.CustomerID = c.CustomerID JOIN OrderDetails od ON o.OrderID = od.OrderID JOIN Products p ON p.ProductID = od.ProductID\n",
    "WHERE c.Country = \"Germany\"\n",
    "GROUP BY ProductName"
   ]
  }
 ],
 "metadata": {
  "kernelspec": {
   "display_name": "Python 3",
   "language": "python",
   "name": "python3"
  },
  "language_info": {
   "codemirror_mode": {
    "name": "ipython",
    "version": 3
   },
   "file_extension": ".py",
   "mimetype": "text/x-python",
   "name": "python",
   "nbconvert_exporter": "python",
   "pygments_lexer": "ipython3",
   "version": "3.6.4"
  }
 },
 "nbformat": 4,
 "nbformat_minor": 2
}
